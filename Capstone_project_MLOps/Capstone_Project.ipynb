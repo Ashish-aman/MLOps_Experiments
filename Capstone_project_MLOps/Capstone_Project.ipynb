{
 "cells": [
  {
   "cell_type": "code",
   "execution_count": 2,
   "id": "fa4b0239",
   "metadata": {},
   "outputs": [],
   "source": [
    "import pandas as pd\n",
    "import numpy as np\n",
    "import mlflow\n",
    "import mlflow.sklearn\n",
    "from sklearn.model_selection import train_test_split\n",
    "from sklearn.impute import SimpleImputer\n",
    "from sklearn.preprocessing import StandardScaler, OneHotEncoder\n",
    "from sklearn.compose import ColumnTransformer\n",
    "from sklearn.pipeline import Pipeline\n",
    "from sklearn.metrics import mean_squared_error, mean_absolute_error, r2_score\n",
    "from sklearn.linear_model import LinearRegression\n",
    "from sklearn.ensemble import RandomForestRegressor, GradientBoostingRegressor\n",
    "from sklearn.tree import DecisionTreeRegressor\n",
    "from sklearn.svm import SVR"
   ]
  },
  {
   "cell_type": "code",
   "execution_count": 3,
   "id": "961a93dd",
   "metadata": {},
   "outputs": [],
   "source": [
    "import pandas as pd\n",
    "\n",
    "# Define column names from the dataset description\n",
    "column_names = [\n",
    "    'mpg', 'cylinders', 'displacement', 'horsepower',\n",
    "    'weight', 'acceleration', 'model_year', 'origin', 'car_name'\n",
    "]\n",
    "\n",
    "# Load dataset from UCI and assign column names\n",
    "df = pd.read_csv(\n",
    "    'https://archive.ics.uci.edu/ml/machine-learning-databases/auto-mpg/auto-mpg.data',\n",
    "    sep='\\s+',\n",
    "    names=column_names\n",
    ")\n",
    "\n",
    "# Replace '?' in horsepower with NaN\n",
    "df['horsepower'] = df['horsepower'].replace('?', np.nan).astype(float)\n",
    "\n",
    "# Drop rows with missing values\n",
    "df.dropna(inplace=True)\n",
    "\n",
    "# Drop 'car name' column (not useful for modeling)\n",
    "df.drop('car_name', axis=1, inplace=True)\n",
    "\n",
    "# Map 'origin' to categorical names\n",
    "df['origin'] = df['origin'].map({1: 'USA', 2: 'Europe', 3: 'Japan'})\n"
   ]
  },
  {
   "cell_type": "code",
   "execution_count": 4,
   "id": "813f6a55",
   "metadata": {},
   "outputs": [
    {
     "data": {
      "text/html": [
       "<div>\n",
       "<style scoped>\n",
       "    .dataframe tbody tr th:only-of-type {\n",
       "        vertical-align: middle;\n",
       "    }\n",
       "\n",
       "    .dataframe tbody tr th {\n",
       "        vertical-align: top;\n",
       "    }\n",
       "\n",
       "    .dataframe thead th {\n",
       "        text-align: right;\n",
       "    }\n",
       "</style>\n",
       "<table border=\"1\" class=\"dataframe\">\n",
       "  <thead>\n",
       "    <tr style=\"text-align: right;\">\n",
       "      <th></th>\n",
       "      <th>mpg</th>\n",
       "      <th>cylinders</th>\n",
       "      <th>displacement</th>\n",
       "      <th>horsepower</th>\n",
       "      <th>weight</th>\n",
       "      <th>acceleration</th>\n",
       "      <th>model_year</th>\n",
       "      <th>origin</th>\n",
       "    </tr>\n",
       "  </thead>\n",
       "  <tbody>\n",
       "    <tr>\n",
       "      <th>0</th>\n",
       "      <td>18.0</td>\n",
       "      <td>8</td>\n",
       "      <td>307.0</td>\n",
       "      <td>130.0</td>\n",
       "      <td>3504.0</td>\n",
       "      <td>12.0</td>\n",
       "      <td>70</td>\n",
       "      <td>USA</td>\n",
       "    </tr>\n",
       "    <tr>\n",
       "      <th>1</th>\n",
       "      <td>15.0</td>\n",
       "      <td>8</td>\n",
       "      <td>350.0</td>\n",
       "      <td>165.0</td>\n",
       "      <td>3693.0</td>\n",
       "      <td>11.5</td>\n",
       "      <td>70</td>\n",
       "      <td>USA</td>\n",
       "    </tr>\n",
       "    <tr>\n",
       "      <th>2</th>\n",
       "      <td>18.0</td>\n",
       "      <td>8</td>\n",
       "      <td>318.0</td>\n",
       "      <td>150.0</td>\n",
       "      <td>3436.0</td>\n",
       "      <td>11.0</td>\n",
       "      <td>70</td>\n",
       "      <td>USA</td>\n",
       "    </tr>\n",
       "    <tr>\n",
       "      <th>3</th>\n",
       "      <td>16.0</td>\n",
       "      <td>8</td>\n",
       "      <td>304.0</td>\n",
       "      <td>150.0</td>\n",
       "      <td>3433.0</td>\n",
       "      <td>12.0</td>\n",
       "      <td>70</td>\n",
       "      <td>USA</td>\n",
       "    </tr>\n",
       "    <tr>\n",
       "      <th>4</th>\n",
       "      <td>17.0</td>\n",
       "      <td>8</td>\n",
       "      <td>302.0</td>\n",
       "      <td>140.0</td>\n",
       "      <td>3449.0</td>\n",
       "      <td>10.5</td>\n",
       "      <td>70</td>\n",
       "      <td>USA</td>\n",
       "    </tr>\n",
       "  </tbody>\n",
       "</table>\n",
       "</div>"
      ],
      "text/plain": [
       "    mpg  cylinders  displacement  horsepower  weight  acceleration  \\\n",
       "0  18.0          8         307.0       130.0  3504.0          12.0   \n",
       "1  15.0          8         350.0       165.0  3693.0          11.5   \n",
       "2  18.0          8         318.0       150.0  3436.0          11.0   \n",
       "3  16.0          8         304.0       150.0  3433.0          12.0   \n",
       "4  17.0          8         302.0       140.0  3449.0          10.5   \n",
       "\n",
       "   model_year origin  \n",
       "0          70    USA  \n",
       "1          70    USA  \n",
       "2          70    USA  \n",
       "3          70    USA  \n",
       "4          70    USA  "
      ]
     },
     "execution_count": 4,
     "metadata": {},
     "output_type": "execute_result"
    }
   ],
   "source": [
    "df.head()"
   ]
  },
  {
   "cell_type": "code",
   "execution_count": 5,
   "id": "a599bb2a",
   "metadata": {},
   "outputs": [],
   "source": [
    "X = df.drop('mpg', axis=1)  # Features\n",
    "y = df['mpg']               # Target variable\n"
   ]
  },
  {
   "cell_type": "code",
   "execution_count": 6,
   "id": "c3fe7867",
   "metadata": {},
   "outputs": [],
   "source": [
    "X_train, X_test, y_train, y_test = train_test_split(\n",
    "    X, y, test_size=0.2, random_state=42\n",
    ")\n"
   ]
  },
  {
   "cell_type": "code",
   "execution_count": 7,
   "id": "2484d744",
   "metadata": {},
   "outputs": [],
   "source": [
    "numeric_features = ['cylinders', 'displacement', 'horsepower', 'weight', 'acceleration', 'model_year']\n",
    "categorical_features = ['origin']\n"
   ]
  },
  {
   "cell_type": "code",
   "execution_count": 8,
   "id": "2ab68f2d",
   "metadata": {},
   "outputs": [],
   "source": [
    "# Numeric pipeline\n",
    "numeric_transformer = Pipeline(steps=[\n",
    "    ('imputer', SimpleImputer(strategy='mean')),\n",
    "    ('scaler', StandardScaler())\n",
    "])\n",
    "\n",
    "# Categorical pipeline\n",
    "categorical_transformer = Pipeline(steps=[\n",
    "    ('encoder', OneHotEncoder(drop='first'))  # Avoids dummy variable trap\n",
    "])\n"
   ]
  },
  {
   "cell_type": "code",
   "execution_count": 9,
   "id": "8d6302ee",
   "metadata": {},
   "outputs": [],
   "source": [
    "preprocessor = ColumnTransformer(\n",
    "    transformers=[\n",
    "        ('num', numeric_transformer, numeric_features),\n",
    "        ('cat', categorical_transformer, categorical_features)\n",
    "    ]\n",
    ")\n"
   ]
  },
  {
   "cell_type": "code",
   "execution_count": 10,
   "id": "f8d462ec",
   "metadata": {},
   "outputs": [
    {
     "name": "stdout",
     "output_type": "stream",
     "text": [
      "✅ Preprocessing complete.\n",
      "Processed training shape: (313, 8)\n",
      "Processed test shape: (79, 8)\n"
     ]
    }
   ],
   "source": [
    "# Fit on training data, transform both train and test\n",
    "X_train_processed = preprocessor.fit_transform(X_train)\n",
    "X_test_processed = preprocessor.transform(X_test)\n",
    "\n",
    "print(\"✅ Preprocessing complete.\")\n",
    "print(\"Processed training shape:\", X_train_processed.shape)\n",
    "print(\"Processed test shape:\", X_test_processed.shape)\n"
   ]
  },
  {
   "cell_type": "code",
   "execution_count": 11,
   "id": "01be04ae",
   "metadata": {},
   "outputs": [
    {
     "data": {
      "text/plain": [
       "<Experiment: artifact_location='mlflow-artifacts:/3', creation_time=1755027237410, experiment_id='3', last_update_time=1755027237410, lifecycle_stage='active', name='CapstoneAUTOMgp', tags={}>"
      ]
     },
     "execution_count": 11,
     "metadata": {},
     "output_type": "execute_result"
    }
   ],
   "source": [
    "#Start the mlflow context\n",
    "mlflow.set_tracking_uri(\"http://localhost:5555\")\n",
    "mlflow.set_experiment(\"CapstoneAUTOMgp\")"
   ]
  },
  {
   "cell_type": "code",
   "execution_count": 21,
   "id": "f9961a00",
   "metadata": {
    "scrolled": true
   },
   "outputs": [
    {
     "name": "stderr",
     "output_type": "stream",
     "text": [
      "/home/azureuser/anaconda3/lib/python3.9/site-packages/mlflow/types/utils.py:452: UserWarning: Hint: Inferred schema contains integer column(s). Integer columns in Python cannot represent missing values. If your input data contains missing values at inference time, it will be encoded as floats and will cause a schema enforcement error. The best way to avoid this problem is to infer the model schema based on a realistic data sample (training dataset) that includes missing values. Alternatively, you can declare integer columns as doubles (float64) whenever these columns may have missing values. See `Handling Integers With Missing Values <https://www.mlflow.org/docs/latest/models.html#handling-integers-with-missing-values>`_ for more details.\n",
      "  warnings.warn(\n",
      "2025/08/13 06:01:25 WARNING mlflow.models.model: `artifact_path` is deprecated. Please use `name` instead.\n"
     ]
    },
    {
     "name": "stdout",
     "output_type": "stream",
     "text": [
      "LinearRegression - RMSE: 10.60, MAE: 2.46, R2: 0.79\n",
      "🏃 View run LinearRegression at: http://localhost:5555/#/experiments/4/runs/c935b7601ae6456093860c61618defcd\n",
      "🧪 View experiment at: http://localhost:5555/#/experiments/4\n"
     ]
    },
    {
     "name": "stderr",
     "output_type": "stream",
     "text": [
      "/home/azureuser/anaconda3/lib/python3.9/site-packages/mlflow/types/utils.py:452: UserWarning: Hint: Inferred schema contains integer column(s). Integer columns in Python cannot represent missing values. If your input data contains missing values at inference time, it will be encoded as floats and will cause a schema enforcement error. The best way to avoid this problem is to infer the model schema based on a realistic data sample (training dataset) that includes missing values. Alternatively, you can declare integer columns as doubles (float64) whenever these columns may have missing values. See `Handling Integers With Missing Values <https://www.mlflow.org/docs/latest/models.html#handling-integers-with-missing-values>`_ for more details.\n",
      "  warnings.warn(\n",
      "2025/08/13 06:01:28 WARNING mlflow.models.model: `artifact_path` is deprecated. Please use `name` instead.\n"
     ]
    },
    {
     "name": "stdout",
     "output_type": "stream",
     "text": [
      "RandomForest - RMSE: 5.81, MAE: 1.72, R2: 0.89\n",
      "🏃 View run RandomForest at: http://localhost:5555/#/experiments/4/runs/f3147a93e20e4bb6943be14cfa59b39a\n",
      "🧪 View experiment at: http://localhost:5555/#/experiments/4\n"
     ]
    },
    {
     "name": "stderr",
     "output_type": "stream",
     "text": [
      "/home/azureuser/anaconda3/lib/python3.9/site-packages/mlflow/types/utils.py:452: UserWarning: Hint: Inferred schema contains integer column(s). Integer columns in Python cannot represent missing values. If your input data contains missing values at inference time, it will be encoded as floats and will cause a schema enforcement error. The best way to avoid this problem is to infer the model schema based on a realistic data sample (training dataset) that includes missing values. Alternatively, you can declare integer columns as doubles (float64) whenever these columns may have missing values. See `Handling Integers With Missing Values <https://www.mlflow.org/docs/latest/models.html#handling-integers-with-missing-values>`_ for more details.\n",
      "  warnings.warn(\n",
      "2025/08/13 06:01:30 WARNING mlflow.models.model: `artifact_path` is deprecated. Please use `name` instead.\n"
     ]
    },
    {
     "name": "stdout",
     "output_type": "stream",
     "text": [
      "DecisionTree - RMSE: 11.39, MAE: 2.31, R2: 0.78\n",
      "🏃 View run DecisionTree at: http://localhost:5555/#/experiments/4/runs/71a6a7ddf92740828db605f6bab2a568\n",
      "🧪 View experiment at: http://localhost:5555/#/experiments/4\n"
     ]
    },
    {
     "name": "stderr",
     "output_type": "stream",
     "text": [
      "/home/azureuser/anaconda3/lib/python3.9/site-packages/mlflow/types/utils.py:452: UserWarning: Hint: Inferred schema contains integer column(s). Integer columns in Python cannot represent missing values. If your input data contains missing values at inference time, it will be encoded as floats and will cause a schema enforcement error. The best way to avoid this problem is to infer the model schema based on a realistic data sample (training dataset) that includes missing values. Alternatively, you can declare integer columns as doubles (float64) whenever these columns may have missing values. See `Handling Integers With Missing Values <https://www.mlflow.org/docs/latest/models.html#handling-integers-with-missing-values>`_ for more details.\n",
      "  warnings.warn(\n",
      "2025/08/13 06:01:33 WARNING mlflow.models.model: `artifact_path` is deprecated. Please use `name` instead.\n",
      "/home/azureuser/anaconda3/lib/python3.9/site-packages/mlflow/types/utils.py:452: UserWarning: Hint: Inferred schema contains integer column(s). Integer columns in Python cannot represent missing values. If your input data contains missing values at inference time, it will be encoded as floats and will cause a schema enforcement error. The best way to avoid this problem is to infer the model schema based on a realistic data sample (training dataset) that includes missing values. Alternatively, you can declare integer columns as doubles (float64) whenever these columns may have missing values. See `Handling Integers With Missing Values <https://www.mlflow.org/docs/latest/models.html#handling-integers-with-missing-values>`_ for more details.\n",
      "  warnings.warn(\n",
      "2025/08/13 06:01:36 WARNING mlflow.models.model: `artifact_path` is deprecated. Please use `name` instead.\n"
     ]
    },
    {
     "name": "stdout",
     "output_type": "stream",
     "text": [
      "GradientBoosting - RMSE: 6.19, MAE: 1.78, R2: 0.88\n",
      "🏃 View run GradientBoosting at: http://localhost:5555/#/experiments/4/runs/8be3962a32f7463ca6154811935225d9\n",
      "🧪 View experiment at: http://localhost:5555/#/experiments/4\n",
      "SVR - RMSE: 9.08, MAE: 2.03, R2: 0.82\n",
      "🏃 View run SVR at: http://localhost:5555/#/experiments/4/runs/6c0c1b75050a4a239c7906b06bcf4112\n",
      "🧪 View experiment at: http://localhost:5555/#/experiments/4\n"
     ]
    },
    {
     "name": "stderr",
     "output_type": "stream",
     "text": [
      "Registered model 'CapstoneAUTOMgp_BestModel' already exists. Creating a new version of this model...\n",
      "2025/08/13 06:01:38 WARNING mlflow.tracking._model_registry.fluent: Run with id f3147a93e20e4bb6943be14cfa59b39a has no artifacts at artifact path 'model', registering model based on models:/m-b31dbb7262044dbfbf554674ea6b2fe0 instead\n",
      "2025/08/13 06:01:38 INFO mlflow.store.model_registry.abstract_store: Waiting up to 300 seconds for model version to finish creation. Model name: CapstoneAUTOMgp_BestModel, version 26\n"
     ]
    },
    {
     "name": "stdout",
     "output_type": "stream",
     "text": [
      "✅ Registered best model from run f3147a93e20e4bb6943be14cfa59b39a with RMSE 5.81 as 'CapstoneAUTOMgp_BestModel'\n"
     ]
    },
    {
     "name": "stderr",
     "output_type": "stream",
     "text": [
      "Created version '26' of model 'CapstoneAUTOMgp_BestModel'.\n"
     ]
    }
   ],
   "source": [
    "import mlflow\n",
    "import mlflow.sklearn\n",
    "from sklearn.pipeline import Pipeline\n",
    "from sklearn.metrics import mean_squared_error, mean_absolute_error, r2_score\n",
    "from mlflow.models import infer_signature\n",
    "\n",
    "# Models to train\n",
    "models = {\n",
    "    'LinearRegression': LinearRegression(),\n",
    "    'RandomForest': RandomForestRegressor(n_estimators=100, random_state=42),\n",
    "    'DecisionTree': DecisionTreeRegressor(random_state=42),\n",
    "    'GradientBoosting': GradientBoostingRegressor(n_estimators=100, random_state=42),\n",
    "    'SVR': SVR()\n",
    "}\n",
    "\n",
    "# 🔁 Loop through models and log to MLflow\n",
    "best_rmse = float('inf')\n",
    "best_run_id = None\n",
    "mlflow.set_experiment(\"Capstone_Model_Comparison\")\n",
    "\n",
    "for name, model in models.items():\n",
    "    with mlflow.start_run(run_name=name) as run:\n",
    "        pipeline = Pipeline([\n",
    "            ('preprocessor', preprocessor),\n",
    "            ('model', model)\n",
    "        ])\n",
    "\n",
    "        pipeline.fit(X_train, y_train)\n",
    "        preds = pipeline.predict(X_test)\n",
    "\n",
    "        rmse = mean_squared_error(y_test, preds)\n",
    "        mae = mean_absolute_error(y_test, preds)\n",
    "        r2 = r2_score(y_test, preds)\n",
    "        signature = infer_signature(X_test, preds)\n",
    "\n",
    "        mlflow.log_param(\"model\", name)\n",
    "        mlflow.log_metric(\"rmse\", rmse)\n",
    "        mlflow.log_metric(\"mae\", mae)\n",
    "        mlflow.log_metric(\"r2\", r2)\n",
    "\n",
    "        mlflow.sklearn.log_model(\n",
    "            sk_model=pipeline,\n",
    "            artifact_path=\"model\",\n",
    "            input_example=X_test.iloc[:5],\n",
    "            signature=signature\n",
    "        )\n",
    "\n",
    "        print(f\"{name} - RMSE: {rmse:.2f}, MAE: {mae:.2f}, R2: {r2:.2f}\")\n",
    "\n",
    "        if rmse < best_rmse:\n",
    "            best_model = model\n",
    "            best_rmse = rmse\n",
    "            best_run_id = run.info.run_id\n",
    "            # Create the best pipeline again\n",
    "            best_pipeline = Pipeline([\n",
    "                ('preprocessor', preprocessor),\n",
    "                ('model', best_model)\n",
    "            ])\n",
    "            \n",
    "# Fit again to make sure it's trained (or save the already fitted one if needed)\n",
    "best_pipeline.fit(X_train, y_train)\n",
    "\n",
    "# Save as .bin\n",
    "import pickle\n",
    "with open(\"best_model_pipeline.bin\", \"wb\") as f:\n",
    "    pickle.dump(best_pipeline, f)\n",
    "# ✅ Register the best model\n",
    "model_uri = f\"runs:/{best_run_id}/model\"\n",
    "registered_model_name = \"CapstoneAUTOMgp_BestModel\"\n",
    "\n",
    "mlflow.register_model(model_uri, registered_model_name)\n",
    "print(f\"✅ Registered best model from run {best_run_id} with RMSE {best_rmse:.2f} as '{registered_model_name}'\")"
   ]
  },
  {
   "cell_type": "code",
   "execution_count": 16,
   "id": "9952a100",
   "metadata": {},
   "outputs": [
    {
     "name": "stderr",
     "output_type": "stream",
     "text": [
      "Successfully registered model 'CapstoneAUTOMgp'.\n",
      "2025/08/13 05:39:24 WARNING mlflow.tracking._model_registry.fluent: Run with id 2cd3a325d31d4f41ac7ba15c0584309d has no artifacts at artifact path 'model', registering model based on models:/m-e9de5c2608984dda9ad77af644204605 instead\n",
      "2025/08/13 05:39:24 INFO mlflow.store.model_registry.abstract_store: Waiting up to 300 seconds for model version to finish creation. Model name: CapstoneAUTOMgp, version 1\n",
      "Created version '1' of model 'CapstoneAUTOMgp'.\n"
     ]
    },
    {
     "data": {
      "text/plain": [
       "<ModelVersion: aliases=[], creation_timestamp=1755063564464, current_stage='None', deployment_job_state=<ModelVersionDeploymentJobState: current_task_name='', job_id='', job_state='DEPLOYMENT_JOB_CONNECTION_STATE_UNSPECIFIED', run_id='', run_state='DEPLOYMENT_JOB_RUN_STATE_UNSPECIFIED'>, description='', last_updated_timestamp=1755063564464, metrics=None, model_id=None, name='CapstoneAUTOMgp', params=None, run_id='2cd3a325d31d4f41ac7ba15c0584309d', run_link='', source='models:/m-e9de5c2608984dda9ad77af644204605', status='READY', status_message=None, tags={}, user_id='', version='1'>"
      ]
     },
     "execution_count": 16,
     "metadata": {},
     "output_type": "execute_result"
    }
   ],
   "source": [
    "from mlflow.tracking import MlflowClient\n",
    "\n",
    "client = MlflowClient()\n",
    "\n",
    "run_id = \"2cd3a325d31d4f41ac7ba15c0584309d\"  # replace this with the best_run_id\n",
    "model_uri = f\"runs:/{run_id}/model\"\n",
    "registered_model_name = \"CapstoneAUTOMgp\"\n",
    "\n",
    "mlflow.register_model(model_uri, registered_model_name)\n"
   ]
  },
  {
   "cell_type": "code",
   "execution_count": null,
   "id": "d9650831",
   "metadata": {},
   "outputs": [],
   "source": []
  },
  {
   "cell_type": "code",
   "execution_count": 20,
   "id": "149bcc90",
   "metadata": {},
   "outputs": [],
   "source": [
    "import pickle\n",
    "\n",
    "with open('Rf_model.bin', 'wb') as f_out:\n",
    "\n",
    "    pickle.dump((best_model), f_out)"
   ]
  },
  {
   "cell_type": "code",
   "execution_count": null,
   "id": "a8be9518",
   "metadata": {},
   "outputs": [],
   "source": []
  }
 ],
 "metadata": {
  "kernelspec": {
   "display_name": "Python 3 (ipykernel)",
   "language": "python",
   "name": "python3"
  },
  "language_info": {
   "codemirror_mode": {
    "name": "ipython",
    "version": 3
   },
   "file_extension": ".py",
   "mimetype": "text/x-python",
   "name": "python",
   "nbconvert_exporter": "python",
   "pygments_lexer": "ipython3",
   "version": "3.9.12"
  }
 },
 "nbformat": 4,
 "nbformat_minor": 5
}
